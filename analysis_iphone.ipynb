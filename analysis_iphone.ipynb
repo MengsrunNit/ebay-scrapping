{
 "cells": [
  {
   "cell_type": "code",
   "execution_count": 32,
   "id": "6c6ad330",
   "metadata": {},
   "outputs": [
    {
     "data": {
      "text/html": [
       "<div>\n",
       "<style scoped>\n",
       "    .dataframe tbody tr th:only-of-type {\n",
       "        vertical-align: middle;\n",
       "    }\n",
       "\n",
       "    .dataframe tbody tr th {\n",
       "        vertical-align: top;\n",
       "    }\n",
       "\n",
       "    .dataframe thead th {\n",
       "        text-align: right;\n",
       "    }\n",
       "</style>\n",
       "<table border=\"1\" class=\"dataframe\">\n",
       "  <thead>\n",
       "    <tr style=\"text-align: right;\">\n",
       "      <th></th>\n",
       "      <th>Page</th>\n",
       "      <th>Title</th>\n",
       "      <th>Price</th>\n",
       "      <th>Sold Date</th>\n",
       "      <th>Link</th>\n",
       "      <th>Image Link</th>\n",
       "    </tr>\n",
       "  </thead>\n",
       "  <tbody>\n",
       "    <tr>\n",
       "      <th>0</th>\n",
       "      <td>1</td>\n",
       "      <td>Google Pixel 7a | 7 | 7 Pro - 128GB 256GB 512G...</td>\n",
       "      <td>$194.95</td>\n",
       "      <td>Sold  Oct 21, 2025</td>\n",
       "      <td>https://www.ebay.com/itm/186577116952</td>\n",
       "      <td>https://i.ebayimg.com/images/g/SMoAAOSw9NZmmrF...</td>\n",
       "    </tr>\n",
       "    <tr>\n",
       "      <th>1</th>\n",
       "      <td>1</td>\n",
       "      <td>Google Pixel 6 - 6 Pro - 128/256 GB - Unlocked...</td>\n",
       "      <td>$154.99</td>\n",
       "      <td>Sold  Oct 21, 2025</td>\n",
       "      <td>https://www.ebay.com/itm/175221332529</td>\n",
       "      <td>https://i.ebayimg.com/images/g/2-sAAOSwl1diRJt...</td>\n",
       "    </tr>\n",
       "    <tr>\n",
       "      <th>2</th>\n",
       "      <td>1</td>\n",
       "      <td>Google Pixel 7 | 7a | 7 Pro - 128GB 256GB 512G...</td>\n",
       "      <td>$179.95</td>\n",
       "      <td>Sold  Oct 20, 2025</td>\n",
       "      <td>https://www.ebay.com/itm/276557533467</td>\n",
       "      <td>https://i.ebayimg.com/images/g/haoAAOSw605mkYO...</td>\n",
       "    </tr>\n",
       "    <tr>\n",
       "      <th>3</th>\n",
       "      <td>1</td>\n",
       "      <td>Google Pixel 7 Pro 5G (128GB, 12GB) 6.7\" Fully...</td>\n",
       "      <td>$289.99</td>\n",
       "      <td>Sold  Aug 2, 2025</td>\n",
       "      <td>https://www.ebay.com/itm/134779506570</td>\n",
       "      <td>https://i.ebayimg.com/images/g/2cAAAeSwyYBoQf8...</td>\n",
       "    </tr>\n",
       "    <tr>\n",
       "      <th>4</th>\n",
       "      <td>1</td>\n",
       "      <td>Google Pixel 7 Pro Unlocked All Colors/Memory ...</td>\n",
       "      <td>$259.99</td>\n",
       "      <td>Sold  Oct 20, 2025</td>\n",
       "      <td>https://www.ebay.com/itm/126921454911</td>\n",
       "      <td>https://i.ebayimg.com/images/g/c6oAAOSwz-xnopd...</td>\n",
       "    </tr>\n",
       "  </tbody>\n",
       "</table>\n",
       "</div>"
      ],
      "text/plain": [
       "   Page                                              Title    Price  \\\n",
       "0     1  Google Pixel 7a | 7 | 7 Pro - 128GB 256GB 512G...  $194.95   \n",
       "1     1  Google Pixel 6 - 6 Pro - 128/256 GB - Unlocked...  $154.99   \n",
       "2     1  Google Pixel 7 | 7a | 7 Pro - 128GB 256GB 512G...  $179.95   \n",
       "3     1  Google Pixel 7 Pro 5G (128GB, 12GB) 6.7\" Fully...  $289.99   \n",
       "4     1  Google Pixel 7 Pro Unlocked All Colors/Memory ...  $259.99   \n",
       "\n",
       "            Sold Date                                   Link  \\\n",
       "0  Sold  Oct 21, 2025  https://www.ebay.com/itm/186577116952   \n",
       "1  Sold  Oct 21, 2025  https://www.ebay.com/itm/175221332529   \n",
       "2  Sold  Oct 20, 2025  https://www.ebay.com/itm/276557533467   \n",
       "3   Sold  Aug 2, 2025  https://www.ebay.com/itm/134779506570   \n",
       "4  Sold  Oct 20, 2025  https://www.ebay.com/itm/126921454911   \n",
       "\n",
       "                                          Image Link  \n",
       "0  https://i.ebayimg.com/images/g/SMoAAOSw9NZmmrF...  \n",
       "1  https://i.ebayimg.com/images/g/2-sAAOSwl1diRJt...  \n",
       "2  https://i.ebayimg.com/images/g/haoAAOSw605mkYO...  \n",
       "3  https://i.ebayimg.com/images/g/2cAAAeSwyYBoQf8...  \n",
       "4  https://i.ebayimg.com/images/g/c6oAAOSwz-xnopd...  "
      ]
     },
     "execution_count": 32,
     "metadata": {},
     "output_type": "execute_result"
    }
   ],
   "source": [
    "import pandas as pd\n",
    "#Data Preparation\n",
    "\n",
    "data = pd.read_csv('pixel 7 Pro.csv')\n",
    "data.head()"
   ]
  },
  {
   "cell_type": "code",
   "execution_count": 33,
   "id": "40dc66ae",
   "metadata": {},
   "outputs": [],
   "source": [
    "data['Date'] = data['Sold Date'].apply(lambda x: x.replace('Sold ', ''))"
   ]
  },
  {
   "cell_type": "code",
   "execution_count": 51,
   "id": "2a3b21dd",
   "metadata": {},
   "outputs": [
    {
     "data": {
      "text/plain": [
       "7 Pro\n",
       "False    122\n",
       "Name: count, dtype: int64"
      ]
     },
     "execution_count": 51,
     "metadata": {},
     "output_type": "execute_result"
    }
   ],
   "source": [
    "data['Title'].apply(lambda x: x.count('|')).value_counts()\n",
    "\n",
    "# Get ram based on GB suffix\n",
    "data['Storage'] = data['Title'].apply(lambda x: x[x.find('GB')-3:x.find('GB')].strip() if 'GB' in x else 'Unknown')\n",
    "\n",
    "#Get the condition based on the first part of the title\n",
    "def extract_condition(title):\n",
    "    if 'Excellent' in title:\n",
    "        return 'Excellent'\n",
    "    elif 'Very' in title:\n",
    "        return 'Very Good'\n",
    "    elif 'Good' in title:\n",
    "        return 'Good'\n",
    "    else:\n",
    "        return 'Unknown'\n",
    "\n",
    "data['Condition'] = data['Title'].apply(extract_condition)\n",
    "data['PartsOnly'] = data['Title'].apply(lambda x: 'Parts Only' in x)\n",
    "data['7 Pro'] = (data['Title'].str.contains('7 Pro')) & (~data['Title'].str.contains('|'))\n",
    "\n",
    "# Now show the relevant columns\n",
    "data[['Storage', 'Title', 'Condition', 'PartsOnly', '7 Pro']]\n",
    "\n",
    "data['7 Pro'].value_counts()\n",
    "\n"
   ]
  },
  {
   "cell_type": "code",
   "execution_count": 35,
   "id": "f165f30a",
   "metadata": {},
   "outputs": [],
   "source": [
    "data['Date'] = pd.to_datetime(data['Date'])"
   ]
  },
  {
   "cell_type": "code",
   "execution_count": 36,
   "id": "784496e7",
   "metadata": {},
   "outputs": [],
   "source": [
    "data['Price'] = data['Price'].apply(lambda x: x.replace('$','').replace(',','')).astype(float)"
   ]
  },
  {
   "cell_type": "code",
   "execution_count": 37,
   "id": "60f1031a",
   "metadata": {},
   "outputs": [
    {
     "data": {
      "text/plain": [
       "[<matplotlib.lines.Line2D at 0x167a8ae40>]"
      ]
     },
     "execution_count": 37,
     "metadata": {},
     "output_type": "execute_result"
    },
    {
     "data": {
      "image/png": "[encoded data removed]",
      "text/plain": [
       "<Figure size 640x480 with 1 Axes>"
      ]
     },
     "metadata": {},
     "output_type": "display_data"
    }
   ],
   "source": [
    "filtered = data.sort_values('Date')[10:]\n",
    "\n",
    "import matplotlib \n",
    "\n",
    "from matplotlib import pyplot as plt\n",
    "\n",
    "plt.plot(filtered['Date'], filtered['Price'], marker='s')"
   ]
  },
  {
   "cell_type": "code",
   "execution_count": 38,
   "id": "9d2facc1",
   "metadata": {},
   "outputs": [],
   "source": [
    "#Clean the data: Kepp only 7 Pro models and categoriesze it to \n",
    "\n",
    "#1. Good, Very Good , Excellent Refurbished \n",
    "#2. Storage \n",
    "#3. Date Sold"
   ]
  },
  {
   "cell_type": "code",
   "execution_count": 39,
   "id": "a16ac8b6",
   "metadata": {},
   "outputs": [],
   "source": [
    "#Multiple Regression \n",
    "\n",
    "# Price = β0 + β1(Storage) + β2(Condition) + β3(Date Sold) + ε\n"
   ]
  }
 ],
 "metadata": {
  "kernelspec": {
   "display_name": "Python 3",
   "language": "python",
   "name": "python3"
  },
  "language_info": {
   "codemirror_mode": {
    "name": "ipython",
    "version": 3
   },
   "file_extension": ".py",
   "mimetype": "text/x-python",
   "name": "python",
   "nbconvert_exporter": "python",
   "pygments_lexer": "ipython3",
   "version": "3.12.5"
  }
 },
 "nbformat": 4,
 "nbformat_minor": 5
}
